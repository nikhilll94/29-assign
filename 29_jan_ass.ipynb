{
 "cells": [
  {
   "cell_type": "markdown",
   "id": "5729b46c-eb68-4615-a7d9-80c8a1b9a128",
   "metadata": {},
   "source": [
    "# Ans 1 ) Python was created by Guido van Rossum, and first released on February 20, 1991."
   ]
  },
  {
   "cell_type": "markdown",
   "id": "4bd6eaf2-933b-4a0a-8685-d3acf11dc3be",
   "metadata": {},
   "source": [
    "# Ans 2 ) python is interpreted language based on object oriented programming language"
   ]
  },
  {
   "cell_type": "markdown",
   "id": "172b2d90-48da-4088-afeb-e48f03b8d6ff",
   "metadata": {},
   "source": [
    "## Ans 3 ) Yes, Python is case sensitive while dealing with identifiers"
   ]
  },
  {
   "cell_type": "markdown",
   "id": "bdf440c4-da2c-42b8-beb3-4f5dbc2a6233",
   "metadata": {},
   "source": [
    "## Ans 4 ) .pyc "
   ]
  },
  {
   "cell_type": "markdown",
   "id": "d38de0d6-ef93-4bfc-bc6e-86bdef85d0be",
   "metadata": {},
   "source": [
    "## Ans 5) Python is interpreted "
   ]
  },
  {
   "cell_type": "markdown",
   "id": "55f7eba1-559c-4a78-a9b9-d2ec7d6c2097",
   "metadata": {},
   "source": [
    "## Ans 6) Conditional statement, looping statement, function definition"
   ]
  },
  {
   "cell_type": "markdown",
   "id": "e1f6c183-8933-4829-adc9-f0a70acacca2",
   "metadata": {},
   "source": [
    "## Ans 7) '#' is used to define single line comment"
   ]
  },
  {
   "cell_type": "markdown",
   "id": "bd77a5da-ed15-411a-b8a7-c996fafa7138",
   "metadata": {},
   "source": [
    "## Ans 8)  python_version()"
   ]
  },
  {
   "cell_type": "markdown",
   "id": "eee046da-afe7-4430-af25-1bb7eb9a72ac",
   "metadata": {},
   "source": [
    "## Ans 9) lambda"
   ]
  },
  {
   "cell_type": "markdown",
   "id": "214037eb-80eb-447c-9587-0901ec9a584b",
   "metadata": {},
   "source": [
    "## Ans 10) pip stands for \"pip installs packages\""
   ]
  },
  {
   "cell_type": "markdown",
   "id": "1c997319-89d0-45d9-89db-9d3708f61ea9",
   "metadata": {},
   "source": [
    "## Ans 11) print(), len(), type(), int(),input()"
   ]
  },
  {
   "cell_type": "markdown",
   "id": "dc9c7b8e-8aab-46b5-af2d-db3a2050e481",
   "metadata": {},
   "source": [
    "## Ans 12) 79 characters"
   ]
  },
  {
   "cell_type": "markdown",
   "id": "4d7261a8-7b85-4191-a69e-b8a745e0ad3d",
   "metadata": {},
   "source": [
    "## Ans 13) simple , readable, cross platform compatiblity, large libraries for ML and  Data Science"
   ]
  },
  {
   "cell_type": "markdown",
   "id": "aa479d78-8913-4184-972b-62c4fcdc16b2",
   "metadata": {},
   "source": [
    "## Ans 14) memory managed autmatically by garbage collection, and reference counting"
   ]
  },
  {
   "cell_type": "markdown",
   "id": "279e7206-f377-4998-8519-b6aa73f460bd",
   "metadata": {},
   "source": [
    "## Ans 15) download python from officail site, and run the installer and complete the installation and verify the installation then set path variable in environment in system variable section , add the path of installation file of python, \"eg - For Python 3.9: C:\\Python39;C:\\Python39\\Scripts' \" and apply and OK "
   ]
  },
  {
   "cell_type": "markdown",
   "id": "c3f8ff7c-0011-4ebb-9f4d-bc8485c9d8e3",
   "metadata": {},
   "source": [
    "## Ans 16) Yes, Indentation is required in Python"
   ]
  },
  {
   "cell_type": "code",
   "execution_count": null,
   "id": "a4520467-81db-48c2-9d46-4cc6a85a2486",
   "metadata": {},
   "outputs": [],
   "source": []
  }
 ],
 "metadata": {
  "kernelspec": {
   "display_name": "Python 3 (ipykernel)",
   "language": "python",
   "name": "python3"
  },
  "language_info": {
   "codemirror_mode": {
    "name": "ipython",
    "version": 3
   },
   "file_extension": ".py",
   "mimetype": "text/x-python",
   "name": "python",
   "nbconvert_exporter": "python",
   "pygments_lexer": "ipython3",
   "version": "3.10.8"
  }
 },
 "nbformat": 4,
 "nbformat_minor": 5
}
